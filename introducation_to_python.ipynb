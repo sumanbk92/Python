{
 "cells": [
  {
   "cell_type": "code",
   "execution_count": 5,
   "metadata": {},
   "outputs": [
    {
     "name": "stdout",
     "output_type": "stream",
     "text": [
      "<class 'float'>\n",
      "<class 'int'>\n",
      "<class 'str'>\n",
      "<class 'bool'>\n"
     ]
    }
   ],
   "source": [
    "#Python Data Types\n",
    "\n",
    "#float - real numbers\n",
    "#int - integer numbers\n",
    "#str - string, text\n",
    "#bool - True, False\n",
    "\n",
    "print(type(1.42))\n",
    "print(type(3))\n",
    "print(type(\"hello\"))\n",
    "print(type(True))"
   ]
  },
  {
   "cell_type": "code",
   "execution_count": 6,
   "metadata": {},
   "outputs": [
    {
     "data": {
      "text/plain": [
       "[1, 2, 3]"
      ]
     },
     "execution_count": 6,
     "metadata": {},
     "output_type": "execute_result"
    }
   ],
   "source": [
    "#List slicing\n",
    "#[start:end]: start is inclusive but end is exclusive\n",
    "l = [1,2,3,4,5,6]\n",
    "l[0:3]"
   ]
  },
  {
   "cell_type": "code",
   "execution_count": 8,
   "metadata": {},
   "outputs": [
    {
     "name": "stdout",
     "output_type": "stream",
     "text": [
      "[8, 2, 3]\n",
      "[8, 2, 3]\n",
      "[8, 2, 3]\n",
      "[1, 2, 3]\n"
     ]
    }
   ],
   "source": [
    "#List manipulation\n",
    "#Change list in place\n",
    "x = [1,2,3]\n",
    "y = x\n",
    "y[0] = 8\n",
    "print(y)\n",
    "print(x)\n",
    "#Change list in a copy\n",
    "a = [1,2,3]\n",
    "b = list(a)\n",
    "b[0] = 8\n",
    "print(b)\n",
    "print(a)"
   ]
  },
  {
   "cell_type": "code",
   "execution_count": 16,
   "metadata": {},
   "outputs": [
    {
     "data": {
      "text/plain": [
       "3300"
      ]
     },
     "execution_count": 16,
     "metadata": {},
     "output_type": "execute_result"
    }
   ],
   "source": [
    "#Functions: Piece of reusable code; Solves particular task\n",
    "#ROUND(number, ndigits) the ndigits argument can be negative? Yes!\n",
    "round(3347,-1) #result: 3350\n",
    "round(3347,-2) #result: 3300\n",
    "\n",
    "#Methods: Functions that belong to objects. Objects have methods associated, depending on type.\n",
    "#Objects can be str, float, list...(Everything)\n",
    "str.capitalize()\n",
    "str.replace()\n",
    "\n",
    "float.bit_length()\n",
    "float.conjugate()\n",
    "\n",
    "list.index()\n",
    "list.count()\n",
    "\n",
    "#Summary\n",
    "#1: Find out the object type\n",
    "#2: Call functions/Use methods associated with this type of objects"
   ]
  },
  {
   "cell_type": "code",
   "execution_count": 18,
   "metadata": {},
   "outputs": [
    {
     "name": "stdout",
     "output_type": "stream",
     "text": [
      "<class 'list'>\n",
      "<class 'numpy.ndarray'>\n"
     ]
    }
   ],
   "source": [
    "#Packages: Directory of Python Scripts\n",
    "#Each script = module, specify functions, methods, types\n",
    "\n",
    "#Numpy: Numeric Python\n",
    "#Alternative to Python List: Numpy Array (contain only one type)\n",
    "#Calculations over entire arrays\n",
    "import numpy as np\n",
    "height = [1.6,1.7,1.8]\n",
    "np_height = np.array(height)\n",
    "print(type(height))\n",
    "print(type(np_height))"
   ]
  },
  {
   "cell_type": "code",
   "execution_count": 20,
   "metadata": {},
   "outputs": [
    {
     "name": "stdout",
     "output_type": "stream",
     "text": [
      "[1, 2, 3, 1, 2, 3]\n",
      "[2 4 6]\n"
     ]
    }
   ],
   "source": [
    "#Different types: different behavior\n",
    "a = [1,2,3] #List\n",
    "b = np.array([1,2,3]) #Numpy Array\n",
    "print(a + a)\n",
    "print(b + b)"
   ]
  },
  {
   "cell_type": "code",
   "execution_count": 45,
   "metadata": {},
   "outputs": [
    {
     "name": "stdout",
     "output_type": "stream",
     "text": [
      "[[1 2 3]\n",
      " [4 5 6]]\n",
      "(2, 3)\n",
      "[1 2 3]\n",
      "2\n",
      "2\n",
      "<class 'numpy.ndarray'>\n",
      "<class 'numpy.int64'>\n",
      "<class 'numpy.int64'>\n"
     ]
    }
   ],
   "source": [
    "#2D Numpy Arrays\n",
    "np_2d = np.array([[1,2,3],[4,5,6]]) #List contains many lists\n",
    "print(np_2d)\n",
    "print(np_2d.shape)\n",
    "\n",
    "#Subsetting\n",
    "print(np_2d[0])\n",
    "\n",
    "print(np_2d[0][1])\n",
    "print(np_2d[0,1])\n",
    "\n",
    "print(type(np_2d[0]))\n",
    "\n",
    "print(type(np_2d[0][1]))\n",
    "print(type(np_2d[0,1]))"
   ]
  },
  {
   "cell_type": "code",
   "execution_count": 50,
   "metadata": {},
   "outputs": [
    {
     "name": "stdout",
     "output_type": "stream",
     "text": [
      "2.0\n",
      "2.0\n",
      "[[1. 1.]\n",
      " [1. 1.]]\n",
      "1.5\n",
      "0.816496580927726\n"
     ]
    }
   ],
   "source": [
    "print(np.mean(np_2d[0,1]))\n",
    "print(np.median(np_2d[0]))\n",
    "\n",
    "print(np.corrcoef(np_2d[:,0],np_2d[:,1])) #np.corrcoef(): correlation coefficient\n",
    "print(np.std(np_2d[:,1])) #standard deviation of the 2nd column\n",
    "print(np.std(np_2d[1])) #standard deviation of the 2nd row"
   ]
  },
  {
   "cell_type": "code",
   "execution_count": 53,
   "metadata": {},
   "outputs": [
    {
     "name": "stdout",
     "output_type": "stream",
     "text": [
      "[[ 1.84 62.06]\n",
      " [ 1.75 51.5 ]\n",
      " [ 2.41 42.39]\n",
      " ...\n",
      " [ 1.41 53.8 ]\n",
      " [ 1.81 64.4 ]\n",
      " [ 2.2  83.06]]\n"
     ]
    }
   ],
   "source": [
    "#Generate data\n",
    "#np.random.normal(distribution mean, distribution std, number of samples)\n",
    "height = np.round(np.random.normal(1.75, 0.25, 2000), 2)\n",
    "weight = np.round(np.random.normal(60.32, 15, 2000), 2)\n",
    "np_body = np.column_stack((height,weight))\n",
    "print(np_body)"
   ]
  }
 ],
 "metadata": {
  "kernelspec": {
   "display_name": "Python 3",
   "language": "python",
   "name": "python3"
  },
  "language_info": {
   "codemirror_mode": {
    "name": "ipython",
    "version": 3
   },
   "file_extension": ".py",
   "mimetype": "text/x-python",
   "name": "python",
   "nbconvert_exporter": "python",
   "pygments_lexer": "ipython3",
   "version": "3.8.5"
  }
 },
 "nbformat": 4,
 "nbformat_minor": 4
}
